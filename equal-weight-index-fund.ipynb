{
 "metadata": {
  "language_info": {
   "codemirror_mode": {
    "name": "ipython",
    "version": 3
   },
   "file_extension": ".py",
   "mimetype": "text/x-python",
   "name": "python",
   "nbconvert_exporter": "python",
   "pygments_lexer": "ipython3",
   "version": "3.8.5-final"
  },
  "orig_nbformat": 2,
  "kernelspec": {
   "name": "python3",
   "display_name": "Python 3.8.5 64-bit ('base': conda)",
   "metadata": {
    "interpreter": {
     "hash": "b0acd0db7f4383766e8b4b1e0229b457034d231b9a956db1857be6d912018907"
    }
   }
  }
 },
 "nbformat": 4,
 "nbformat_minor": 2,
 "cells": [
  {
   "cell_type": "code",
   "execution_count": 1,
   "metadata": {},
   "outputs": [],
   "source": [
    "# os.environ[\"MODIN_ENGINE\"] = \"dask\"\n",
    "# import modin.pandas as pd\n",
    "import pandas as pd\n",
    "import numpy as np\n",
    "import requests\n",
    "import math"
   ]
  },
  {
   "cell_type": "code",
   "execution_count": 2,
   "metadata": {},
   "outputs": [],
   "source": [
    "from credentials import IEX_CLOUD_API_TOKEN"
   ]
  },
  {
   "cell_type": "code",
   "execution_count": 3,
   "metadata": {},
   "outputs": [],
   "source": [
    "stocks = pd.read_csv(\"sp-500-stocks.csv\")"
   ]
  },
  {
   "cell_type": "code",
   "execution_count": 4,
   "metadata": {},
   "outputs": [],
   "source": [
    "columns = [\"Tickers\", \"Stock Price\", \"Market Capitalization\", \"Number of Shares to Buy\"]\n",
    "final_dataframe = pd.DataFrame(columns=columns)"
   ]
  },
  {
   "source": [
    "final_dataframe = pd.DataFrame(columns=columns)\n",
    "for stock in stocks[\"Ticker\"][:20]:\n",
    "    api_url = f\"https://sandbox.iexapis.com/stable/stock/{stock}/quote?token={IEX_CLOUD_API_TOKEN}\"\n",
    "    data = requests.get(api_url).json()\n",
    "    final_dataframe = final_dataframe.append(\n",
    "        pd.Series(\n",
    "            [stock, data[\"latestPrice\"], data[\"marketCap\"], \"N/A\"], \n",
    "            index=columns\n",
    "        ),\n",
    "        ignore_index=True\n",
    "    )\n",
    "final_dataframe"
   ],
   "cell_type": "code",
   "metadata": {},
   "execution_count": null,
   "outputs": []
  },
  {
   "cell_type": "code",
   "execution_count": null,
   "metadata": {},
   "outputs": [],
   "source": [
    "def chunks(lst, n):\n",
    "    for i in range(0, len(lst), n):\n",
    "        yield lst[i:i + n]"
   ]
  },
  {
   "cell_type": "code",
   "execution_count": null,
   "metadata": {
    "tags": []
   },
   "outputs": [],
   "source": [
    "symbol_groups = list(chunks(stocks[\"Ticker\"], 100))\n",
    "symbol_strings = []\n",
    "for i in range(0, len(symbol_groups)):\n",
    "    symbol_strings.append(\",\".join(symbol_groups[i]))\n",
    "    # print(symbol_strings[i])\n",
    "final_dataframe = pd.DataFrame(columns=columns)\n",
    "for symbol_string in symbol_strings:\n",
    "    batch_api_call_url = \\\n",
    "        f\"https://sandbox.iexapis.com/stable/stock/market/batch?symbols={symbol_string}&types=quote&token={IEX_CLOUD_API_TOKEN}\"\n",
    "    data = requests.get(batch_api_call_url).json()\n",
    "    for symbol in symbol_string.split(\",\"):\n",
    "        final_dataframe = final_dataframe.append(\n",
    "            pd.Series(\n",
    "                [\n",
    "                    symbol, \n",
    "                    data[symbol][\"quote\"][\"latestPrice\"], \n",
    "                    data[symbol][\"quote\"][\"marketCap\"],\n",
    "                    \"N/A\"\n",
    "                ], \n",
    "                index=columns\n",
    "            ), \n",
    "            ignore_index=True\n",
    "        )\n",
    "final_dataframe"
   ]
  },
  {
   "cell_type": "code",
   "execution_count": null,
   "metadata": {},
   "outputs": [],
   "source": [
    "portfolio_size = input(\"Enter the value of your portfolio:\")\n",
    "try:\n",
    "    val = float(portfolio_size)\n",
    "except ValueError:\n",
    "    print(\"That's not a number!\\nPlease try again ...\")\n",
    "    portfolio_size = input(\"Enter the value of your portfolio:\")\n",
    "    val = float(portfolio_size)"
   ]
  },
  {
   "cell_type": "code",
   "execution_count": null,
   "metadata": {},
   "outputs": [],
   "source": [
    "position_size = val / len(final_dataframe.index)\n",
    "for i in range(len(final_dataframe.index)):\n",
    "    final_dataframe.loc[i, 'Number of Shares to Buy'] = math.floor(position_size / final_dataframe.loc[i, 'Stock Price'])\n",
    "final_dataframe\n"
   ]
  },
  {
   "cell_type": "code",
   "execution_count": null,
   "metadata": {},
   "outputs": [],
   "source": [
    "writer = pd.ExcelWriter('recommended_trades.xlsx', engine='xlsxwriter')\n",
    "final_dataframe.to_excel(writer, 'Recommended Trades', index=False)"
   ]
  },
  {
   "cell_type": "code",
   "execution_count": null,
   "metadata": {},
   "outputs": [],
   "source": [
    "string_format = writer.book.add_format(\n",
    "    {\n",
    "        # 'font_color': '#000000',\n",
    "        # 'bg_color': '#ffffff',\n",
    "        'border': 1\n",
    "    }\n",
    ")\n",
    "dollar_format = writer.book.add_format(\n",
    "    {\n",
    "        'num_format': '$0.00',\n",
    "        # 'font_color': '#000000',\n",
    "        # 'bg_color': '#ffffff',\n",
    "        'border': 1\n",
    "    }\n",
    ")\n",
    "int_format = writer.book.add_format(\n",
    "    {\n",
    "        'num_format': '0',\n",
    "        # 'font_color': '#000000',\n",
    "        # 'bg_color': '#ffffff',\n",
    "        'border': 1\n",
    "    }\n",
    ")\n",
    "columns_formats = {\n",
    "    'A': ['Tickers', string_format],\n",
    "    'B': ['Stock Price', dollar_format],\n",
    "    'C': ['Market Capitalization', dollar_format],\n",
    "    'D': ['Number of Shared to Buy', int_format],\n",
    "}\n",
    "\n",
    "for column in columns_formats.keys():\n",
    "    writer.sheets['Recommended Trades'].set_column(f'{column}:{column}', 18, columns_formats[column][1])"
   ]
  },
  {
   "cell_type": "code",
   "execution_count": null,
   "metadata": {},
   "outputs": [],
   "source": [
    "writer.save()"
   ]
  }
 ]
}